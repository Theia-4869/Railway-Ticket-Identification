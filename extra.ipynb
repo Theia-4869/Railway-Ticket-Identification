{
 "cells": [
  {
   "cell_type": "markdown",
   "metadata": {},
   "source": [
    "*coding=utf-8*\n",
    "\n",
    "文件名: extra.ipynb\n",
    "\n",
    "作者: Theia-4869 (Qizhe Zhang)\n",
    "\n",
    "说明: 本文件是用于添加训练集中未出现的字母以扩充数据集, 其中大部分操作都是针对特定图片的"
   ]
  },
  {
   "cell_type": "code",
   "execution_count": 1,
   "metadata": {},
   "outputs": [],
   "source": [
    "import os\n",
    "import cv2\n",
    "from matplotlib import pyplot as plt"
   ]
  },
  {
   "cell_type": "code",
   "execution_count": 2,
   "metadata": {},
   "outputs": [
    {
     "data": {
      "image/png": "[encoded data removed]",
      "text/plain": [
       "<Figure size 432x288 with 1 Axes>"
      ]
     },
     "metadata": {
      "needs_background": "light"
     },
     "output_type": "display_data"
    }
   ],
   "source": [
    "original_img = cv2.imread('extra_data/E.jpg', cv2.IMREAD_GRAYSCALE)\n",
    "letter_21 = original_img[265:280, 180:189]\n",
    "letter_21 = cv2.resize(letter_21, (32, 32), interpolation=cv2.INTER_CUBIC)\n",
    "letter_21 = cv2.threshold(letter_21, 175, 255, cv2.THRESH_BINARY)[1]\n",
    "\n",
    "letter_7 = original_img[110:122, 115:128]\n",
    "letter_7 = cv2.resize(letter_7, (32, 32), interpolation=cv2.INTER_CUBIC)\n",
    "letter_7 = cv2.threshold(letter_7, 182, 255, cv2.THRESH_BINARY)[1]\n",
    "\n",
    "cv2.imwrite(os.path.join(\"letter_data\", \"train\", \"E_1.bmp\"), letter_21)\n",
    "cv2.imwrite(os.path.join(\"letter_data\", \"train\", \"E_2.bmp\"), letter_7)\n",
    "\n",
    "plt.figure()\n",
    "plt.imshow(letter_7, cmap=\"gray\")\n",
    "plt.show()"
   ]
  },
  {
   "cell_type": "code",
   "execution_count": 3,
   "metadata": {},
   "outputs": [
    {
     "data": {
      "image/png": "[encoded data removed]",
      "text/plain": [
       "<Figure size 432x288 with 1 Axes>"
      ]
     },
     "metadata": {
      "needs_background": "light"
     },
     "output_type": "display_data"
    }
   ],
   "source": [
    "original_img = cv2.imread('extra_data/E_.jpg', cv2.IMREAD_GRAYSCALE)\n",
    "letter_21 = original_img[9:26, 52:62]\n",
    "letter_21 = cv2.resize(letter_21, (32, 32), interpolation=cv2.INTER_CUBIC)\n",
    "letter_21 = cv2.threshold(letter_21, 150, 255, cv2.THRESH_BINARY)[1]\n",
    "\n",
    "letter_7 = original_img[179:191, 107:115]\n",
    "letter_7 = cv2.resize(letter_7, (32, 32), interpolation=cv2.INTER_CUBIC)\n",
    "letter_7 = cv2.threshold(letter_7, 160, 255, cv2.THRESH_BINARY)[1]\n",
    "\n",
    "cv2.imwrite(os.path.join(\"letter_data\", \"train\", \"E_3.bmp\"), letter_21)\n",
    "cv2.imwrite(os.path.join(\"letter_data\", \"train\", \"E_4.bmp\"), letter_7)\n",
    "\n",
    "plt.figure()\n",
    "plt.imshow(letter_7, cmap=\"gray\")\n",
    "plt.show()"
   ]
  },
  {
   "cell_type": "code",
   "execution_count": 4,
   "metadata": {},
   "outputs": [
    {
     "data": {
      "image/png": "[encoded data removed]",
      "text/plain": [
       "<Figure size 432x288 with 1 Axes>"
      ]
     },
     "metadata": {
      "needs_background": "light"
     },
     "output_type": "display_data"
    }
   ],
   "source": [
    "original_img = cv2.imread('extra_data/E__.jpg', cv2.IMREAD_GRAYSCALE)\n",
    "letter_21 = original_img[102:150, 75:110]\n",
    "letter_21 = cv2.resize(letter_21, (32, 32), interpolation=cv2.INTER_CUBIC)\n",
    "letter_21 = cv2.threshold(letter_21, 160, 255, cv2.THRESH_BINARY)[1]\n",
    "\n",
    "letter_7 = original_img[640:680, 347:373]\n",
    "letter_7 = cv2.resize(letter_7, (32, 32), interpolation=cv2.INTER_CUBIC)\n",
    "letter_7 = cv2.threshold(letter_7, 100, 255, cv2.THRESH_BINARY)[1]\n",
    "\n",
    "cv2.imwrite(os.path.join(\"letter_data\", \"train\", \"E_5.bmp\"), letter_21)\n",
    "cv2.imwrite(os.path.join(\"letter_data\", \"train\", \"C_5.bmp\"), letter_7)\n",
    "\n",
    "plt.figure()\n",
    "plt.imshow(letter_7, cmap=\"gray\")\n",
    "plt.show()"
   ]
  },
  {
   "cell_type": "code",
   "execution_count": 5,
   "metadata": {},
   "outputs": [
    {
     "data": {
      "image/png": "[encoded data removed]",
      "text/plain": [
       "<Figure size 432x288 with 1 Axes>"
      ]
     },
     "metadata": {
      "needs_background": "light"
     },
     "output_type": "display_data"
    }
   ],
   "source": [
    "original_img = cv2.imread('extra_data/F.bmp', cv2.IMREAD_GRAYSCALE)\n",
    "letter_21 = original_img[696:732, 290:313]\n",
    "letter_21 = cv2.resize(letter_21, (32, 32), interpolation=cv2.INTER_CUBIC)\n",
    "letter_21 = cv2.threshold(letter_21, 120, 255, cv2.THRESH_BINARY)[1]\n",
    "\n",
    "letter_7 = original_img[157:205, 103:135]\n",
    "letter_7 = cv2.resize(letter_7, (32, 32), interpolation=cv2.INTER_CUBIC)\n",
    "letter_7 = cv2.threshold(letter_7, 140, 255, cv2.THRESH_BINARY)[1]\n",
    "\n",
    "cv2.imwrite(os.path.join(\"letter_data\", \"train\", \"F_1.bmp\"), letter_21)\n",
    "cv2.imwrite(os.path.join(\"letter_data\", \"train\", \"F_2.bmp\"), letter_7)\n",
    "\n",
    "plt.figure()\n",
    "plt.imshow(letter_21, cmap=\"gray\")\n",
    "plt.show()"
   ]
  },
  {
   "cell_type": "code",
   "execution_count": 6,
   "metadata": {},
   "outputs": [
    {
     "data": {
      "image/png": "[encoded data removed]",
      "text/plain": [
       "<Figure size 432x288 with 1 Axes>"
      ]
     },
     "metadata": {
      "needs_background": "light"
     },
     "output_type": "display_data"
    }
   ],
   "source": [
    "original_img = cv2.imread('extra_data/F_.jpg', cv2.IMREAD_GRAYSCALE)\n",
    "letter_21 = original_img[235:252, 141:150]\n",
    "letter_21 = cv2.resize(letter_21, (32, 32), interpolation=cv2.INTER_CUBIC)\n",
    "letter_21 = cv2.threshold(letter_21, 149, 255, cv2.THRESH_BINARY)[1]\n",
    "\n",
    "letter_7 = original_img[6:27, 21:36]\n",
    "letter_7 = cv2.resize(letter_7, (32, 32), interpolation=cv2.INTER_CUBIC)\n",
    "letter_7 = cv2.threshold(letter_7, 175, 255, cv2.THRESH_BINARY)[1]\n",
    "\n",
    "cv2.imwrite(os.path.join(\"letter_data\", \"train\", \"F_3.bmp\"), letter_21)\n",
    "cv2.imwrite(os.path.join(\"letter_data\", \"train\", \"F_4.bmp\"), letter_7)\n",
    "\n",
    "plt.figure()\n",
    "plt.imshow(letter_7, cmap=\"gray\")\n",
    "plt.show()"
   ]
  },
  {
   "cell_type": "code",
   "execution_count": 7,
   "metadata": {},
   "outputs": [
    {
     "data": {
      "image/png": "[encoded data removed]",
      "text/plain": [
       "<Figure size 432x288 with 1 Axes>"
      ]
     },
     "metadata": {
      "needs_background": "light"
     },
     "output_type": "display_data"
    }
   ],
   "source": [
    "original_img = cv2.imread('extra_data/H.jpg', cv2.IMREAD_GRAYSCALE)\n",
    "letter_21 = original_img[458:477, 343:355]\n",
    "letter_21 = cv2.resize(letter_21, (32, 32), interpolation=cv2.INTER_CUBIC)\n",
    "letter_21 = cv2.threshold(letter_21, 160, 255, cv2.THRESH_BINARY)[1]\n",
    "\n",
    "letter_7 = original_img[170:195, 212:234]\n",
    "letter_7 = cv2.resize(letter_7, (32, 32), interpolation=cv2.INTER_CUBIC)\n",
    "letter_7 = cv2.threshold(letter_7, 230, 255, cv2.THRESH_BINARY)[1]\n",
    "\n",
    "cv2.imwrite(os.path.join(\"letter_data\", \"train\", \"H_1.bmp\"), letter_21)\n",
    "cv2.imwrite(os.path.join(\"letter_data\", \"train\", \"H_2.bmp\"), letter_7)\n",
    "\n",
    "plt.figure()\n",
    "plt.imshow(letter_7, cmap=\"gray\")\n",
    "plt.show()"
   ]
  },
  {
   "cell_type": "code",
   "execution_count": 8,
   "metadata": {},
   "outputs": [
    {
     "data": {
      "image/png": "[encoded data removed]",
      "text/plain": [
       "<Figure size 432x288 with 1 Axes>"
      ]
     },
     "metadata": {
      "needs_background": "light"
     },
     "output_type": "display_data"
    }
   ],
   "source": [
    "original_img = cv2.imread('extra_data/H_.jpg', cv2.IMREAD_GRAYSCALE)\n",
    "letter_21 = original_img[559:587, 437:455]\n",
    "letter_21 = cv2.resize(letter_21, (32, 32), interpolation=cv2.INTER_CUBIC)\n",
    "letter_21 = cv2.threshold(letter_21, 150, 255, cv2.THRESH_BINARY)[1]\n",
    "\n",
    "letter_7 = original_img[127:167, 245:271]\n",
    "letter_7 = cv2.resize(letter_7, (32, 32), interpolation=cv2.INTER_CUBIC)\n",
    "letter_7 = cv2.threshold(letter_7, 200, 255, cv2.THRESH_BINARY)[1]\n",
    "\n",
    "cv2.imwrite(os.path.join(\"letter_data\", \"train\", \"H_3.bmp\"), letter_21)\n",
    "cv2.imwrite(os.path.join(\"letter_data\", \"train\", \"H_4.bmp\"), letter_7)\n",
    "\n",
    "plt.figure()\n",
    "plt.imshow(letter_7, cmap=\"gray\")\n",
    "plt.show()"
   ]
  },
  {
   "cell_type": "code",
   "execution_count": 9,
   "metadata": {},
   "outputs": [
    {
     "data": {
      "image/png": "[encoded data removed]",
      "text/plain": [
       "<Figure size 432x288 with 1 Axes>"
      ]
     },
     "metadata": {
      "needs_background": "light"
     },
     "output_type": "display_data"
    }
   ],
   "source": [
    "original_img = cv2.imread('extra_data/R.jpg', cv2.IMREAD_GRAYSCALE)\n",
    "letter_21 = original_img[597:625, 435:453]\n",
    "letter_21 = cv2.resize(letter_21, (32, 32), interpolation=cv2.INTER_CUBIC)\n",
    "letter_21 = cv2.threshold(letter_21, 155, 255, cv2.THRESH_BINARY)[1]\n",
    "\n",
    "letter_7 = original_img[148:178, 153:176]\n",
    "letter_7 = cv2.resize(letter_7, (32, 32), interpolation=cv2.INTER_CUBIC)\n",
    "letter_7 = cv2.threshold(letter_7, 130, 255, cv2.THRESH_BINARY)[1]\n",
    "\n",
    "cv2.imwrite(os.path.join(\"letter_data\", \"train\", \"R_1.bmp\"), letter_21)\n",
    "cv2.imwrite(os.path.join(\"letter_data\", \"train\", \"R_2.bmp\"), letter_7)\n",
    "\n",
    "plt.figure()\n",
    "plt.imshow(letter_7, cmap=\"gray\")\n",
    "plt.show()"
   ]
  },
  {
   "cell_type": "code",
   "execution_count": 10,
   "metadata": {},
   "outputs": [
    {
     "data": {
      "image/png": "[encoded data removed]",
      "text/plain": [
       "<Figure size 432x288 with 1 Axes>"
      ]
     },
     "metadata": {
      "needs_background": "light"
     },
     "output_type": "display_data"
    }
   ],
   "source": [
    "original_img = cv2.imread('extra_data/X.jpg', cv2.IMREAD_GRAYSCALE)\n",
    "letter_21 = original_img[214:225, 183:192]\n",
    "letter_21 = cv2.resize(letter_21, (32, 32), interpolation=cv2.INTER_CUBIC)\n",
    "letter_21 = cv2.threshold(letter_21, 140, 255, cv2.THRESH_BINARY)[1]\n",
    "\n",
    "letter_7 = original_img[11:26, 88:99]\n",
    "letter_7 = cv2.resize(letter_7, (32, 32), interpolation=cv2.INTER_CUBIC)\n",
    "letter_7 = cv2.threshold(letter_7, 180, 255, cv2.THRESH_BINARY)[1]\n",
    "\n",
    "cv2.imwrite(os.path.join(\"letter_data\", \"train\", \"X_1.bmp\"), letter_21)\n",
    "cv2.imwrite(os.path.join(\"letter_data\", \"train\", \"X_2.bmp\"), letter_7)\n",
    "\n",
    "plt.figure()\n",
    "plt.imshow(letter_7, cmap=\"gray\")\n",
    "plt.show()"
   ]
  },
  {
   "cell_type": "code",
   "execution_count": 11,
   "metadata": {},
   "outputs": [
    {
     "data": {
      "image/png": "[encoded data removed]",
      "text/plain": [
       "<Figure size 432x288 with 1 Axes>"
      ]
     },
     "metadata": {
      "needs_background": "light"
     },
     "output_type": "display_data"
    }
   ],
   "source": [
    "original_img = cv2.imread('extra_data/Y.jpg', cv2.IMREAD_GRAYSCALE)\n",
    "letter_21 = original_img[628:656, 381:400]\n",
    "letter_21 = cv2.resize(letter_21, (32, 32), interpolation=cv2.INTER_CUBIC)\n",
    "letter_21 = cv2.threshold(letter_21, 150, 255, cv2.THRESH_BINARY)[1]\n",
    "\n",
    "letter_7 = original_img[144:184, 128:154]\n",
    "letter_7 = cv2.resize(letter_7, (32, 32), interpolation=cv2.INTER_CUBIC)\n",
    "letter_7 = cv2.threshold(letter_7, 190, 255, cv2.THRESH_BINARY)[1]\n",
    "\n",
    "cv2.imwrite(os.path.join(\"letter_data\", \"train\", \"Y_1.bmp\"), letter_21)\n",
    "cv2.imwrite(os.path.join(\"letter_data\", \"train\", \"Y_2.bmp\"), letter_7)\n",
    "\n",
    "plt.figure()\n",
    "plt.imshow(letter_7, cmap=\"gray\")\n",
    "plt.show()"
   ]
  },
  {
   "cell_type": "code",
   "execution_count": 12,
   "metadata": {},
   "outputs": [
    {
     "data": {
      "image/png": "[encoded data removed]",
      "text/plain": [
       "<Figure size 432x288 with 1 Axes>"
      ]
     },
     "metadata": {
      "needs_background": "light"
     },
     "output_type": "display_data"
    }
   ],
   "source": [
    "original_img = cv2.imread('extra_data/F.bmp', cv2.IMREAD_GRAYSCALE)\n",
    "\n",
    "letter_7 = original_img[158:206, 40:72]\n",
    "letter_7 = cv2.resize(letter_7, (32, 32), interpolation=cv2.INTER_CUBIC)\n",
    "letter_7 = cv2.threshold(letter_7, 143, 255, cv2.THRESH_BINARY)[1]\n",
    "\n",
    "cv2.imwrite(os.path.join(\"letter_data\", \"train\", \"Z_1.bmp\"), letter_7)\n",
    "\n",
    "plt.figure()\n",
    "plt.imshow(letter_7, cmap=\"gray\")\n",
    "plt.show()"
   ]
  }
 ],
 "metadata": {
  "interpreter": {
   "hash": "571a64000f190f8488e9570c06561000c4aea2a1e347b57cf3166580648bcb6a"
  },
  "kernelspec": {
   "display_name": "Python 3.7.10 64-bit ('DL': conda)",
   "language": "python",
   "name": "python3"
  },
  "language_info": {
   "codemirror_mode": {
    "name": "ipython",
    "version": 3
   },
   "file_extension": ".py",
   "mimetype": "text/x-python",
   "name": "python",
   "nbconvert_exporter": "python",
   "pygments_lexer": "ipython3",
   "version": "3.7.10"
  },
  "orig_nbformat": 4
 },
 "nbformat": 4,
 "nbformat_minor": 2
}
